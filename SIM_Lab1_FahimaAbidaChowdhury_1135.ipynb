{
  "nbformat": 4,
  "nbformat_minor": 0,
  "metadata": {
    "colab": {
      "provenance": [],
      "authorship_tag": "ABX9TyN+afx+IOkosgKCCAF+QIm2",
      "include_colab_link": true
    },
    "kernelspec": {
      "name": "python3",
      "display_name": "Python 3"
    },
    "language_info": {
      "name": "python"
    }
  },
  "cells": [
    {
      "cell_type": "markdown",
      "metadata": {
        "id": "view-in-github",
        "colab_type": "text"
      },
      "source": [
        "<a href=\"https://colab.research.google.com/github/abida3564/CSE413Lab/blob/main/SIM_Lab1_FahimaAbidaChowdhury_1135.ipynb\" target=\"_parent\"><img src=\"https://colab.research.google.com/assets/colab-badge.svg\" alt=\"Open In Colab\"/></a>"
      ]
    },
    {
      "cell_type": "code",
      "execution_count": 3,
      "metadata": {
        "id": "Olj4eOTa1ijK",
        "colab": {
          "base_uri": "https://localhost:8080/"
        },
        "outputId": "577e938b-7c17-4ea2-9932-7428f8e51feb"
      },
      "outputs": [
        {
          "output_type": "stream",
          "name": "stdout",
          "text": [
            "sin: [ 0.84147098  0.90929743  0.14112001 -0.7568025  -0.95892427 -0.2794155 ]\n",
            "cos: [ 0.54030231 -0.41614684 -0.9899925  -0.65364362  0.28366219  0.96017029]\n",
            "tan: [ 1.55740772 -2.18503986 -0.14254654  1.15782128 -3.38051501 -0.29100619]\n",
            "asin: [0.16744808 0.33983691 0.52359878 0.72972766 0.98511078 1.57079633]\n",
            "acos: [1.40334825 1.23095942 1.04719755 0.84106867 0.58568554 0.        ]\n",
            "atan: [0.78539816 1.10714872 1.24904577 1.32581766 1.37340077 1.40564765]\n",
            "exp: [  2.71828183   7.3890561   20.08553692  54.59815003 148.4131591\n",
            " 403.42879349]\n",
            "log: [0.         0.69314718 1.09861229 1.38629436 1.60943791 1.79175947]\n",
            "abs: [1 2 3 4 5 6]\n",
            "sqrt: [1.         1.41421356 1.73205081 2.         2.23606798 2.44948974]\n",
            "rem: [1 0 1 0 1 0]\n",
            "round: [1 2 3 4 5 6]\n",
            "floor: [1. 2. 3. 4. 5. 6.]\n",
            "ceil: [1. 2. 3. 4. 5. 6.]\n"
          ]
        }
      ],
      "source": [
        "import numpy as np\n",
        "from sympy import Matrix\n",
        "import matplotlib.pyplot as plt\n",
        "import seaborn as sns\n",
        "\n",
        "# Scalar & Array Operations\n",
        "scalar =  3.7\n",
        "arr = np.array([1, 2, 3, 4, 5,6])\n",
        "\n",
        "\n",
        "# Trigonometric functions\n",
        "sin_values = np.sin(arr)\n",
        "cos_values = np.cos(arr)\n",
        "tan_values = np.tan(arr)\n",
        "asin_values = np.arcsin(np.clip(arr / np.max(arr), -1, 1))  # Normalized and Clipping for valid range [-1, 1]\n",
        "acos_values = np.arccos(np.clip(arr / np.max(arr), -1, 1))\n",
        "atan_values = np.arctan(arr)\n",
        "\n",
        "# Exponential and logarithm\n",
        "exp_values = np.exp(arr)\n",
        "log_values = np.log(arr)  # Natural logarithm\n",
        "\n",
        "# Absolute value and square root\n",
        "abs_values = np.abs(arr)\n",
        "sqrt_values = np.sqrt(arr)\n",
        "\n",
        "# Remainder when divided by a scalar (e.g., 2)\n",
        "rem_values = np.remainder(arr, 2)\n",
        "\n",
        "# Rounding functions\n",
        "round_values = np.round(arr)\n",
        "floor_values = np.floor(arr)\n",
        "ceil_values = np.ceil(arr)\n",
        "\n",
        "# Display results\n",
        "print(\"sin:\", sin_values)\n",
        "print(\"cos:\", cos_values)\n",
        "print(\"tan:\", tan_values)\n",
        "print(\"asin:\", asin_values)\n",
        "print(\"acos:\", acos_values)\n",
        "print(\"atan:\", atan_values)\n",
        "print(\"exp:\", exp_values)\n",
        "print(\"log:\", log_values)\n",
        "print(\"abs:\", abs_values)\n",
        "print(\"sqrt:\", sqrt_values)\n",
        "print(\"rem:\", rem_values)\n",
        "print(\"round:\", round_values)\n",
        "print(\"floor:\", floor_values)\n",
        "print(\"ceil:\", ceil_values)"
      ]
    },
    {
      "cell_type": "code",
      "source": [
        "# Creating a 3x2 matrix\n",
        "matrix = np.array([[1, 2], [3, 4],[5,6]])\n",
        "\n",
        "# Trigonometric functions\n",
        "sin_values = np.sin(matrix)\n",
        "cos_values = np.cos(matrix)\n",
        "tan_values = np.tan(matrix)\n",
        "asin_values = np.arcsin(np.clip(matrix / np.max(matrix), -1, 1))  # Clipping for valid range [-1, 1]\n",
        "acos_values = np.arccos(np.clip(matrix / np.max(matrix), -1, 1))\n",
        "atan_values = np.arctan(matrix)\n",
        "\n",
        "# Exponential and logarithm\n",
        "exp_values = np.exp(matrix)\n",
        "log_values = np.log(matrix)  # Natural logarithm (log base e)\n",
        "\n",
        "# Absolute value and square root\n",
        "abs_values = np.abs(matrix)\n",
        "sqrt_values = np.sqrt(matrix)\n",
        "\n",
        "# Remainder when divided by a scalar (e.g., 2)\n",
        "rem_values = np.remainder(matrix, 2)\n",
        "\n",
        "# Rounding functions\n",
        "round_values = np.round(matrix)\n",
        "floor_values = np.floor(matrix)\n",
        "ceil_values = np.ceil(matrix)\n",
        "\n",
        "# Display results\n",
        "print(\"Matrix:\\n\", matrix)\n",
        "print(\"\\nsin:\\n\", sin_values)\n",
        "print(\"\\ncos:\\n\", cos_values)\n",
        "print(\"\\ntan:\\n\", tan_values)\n",
        "print(\"\\nasine:\\n\", asin_values)\n",
        "print(\"\\nacosine:\\n\", acos_values)\n",
        "print(\"\\natangent:\\n\", atan_values)\n",
        "print(\"\\nexp:\\n\", exp_values)\n",
        "print(\"\\nlog (natural):\\n\", log_values)\n",
        "print(\"\\nabs:\\n\", abs_values)\n",
        "print(\"\\nsqrt:\\n\", sqrt_values)\n",
        "print(\"\\nrem (remainder when divided by 2):\\n\", rem_values)\n",
        "print(\"\\nround:\\n\", round_values)\n",
        "print(\"\\nfloor:\\n\", floor_values)\n",
        "print(\"\\nceil:\\n\", ceil_values)\n"
      ],
      "metadata": {
        "colab": {
          "base_uri": "https://localhost:8080/"
        },
        "id": "g59FrYEc_oFE",
        "outputId": "b9d22659-f566-4652-92f5-c8a015c266a1"
      },
      "execution_count": 16,
      "outputs": [
        {
          "output_type": "stream",
          "name": "stdout",
          "text": [
            "Matrix:\n",
            " [[1 2]\n",
            " [3 4]\n",
            " [5 6]]\n",
            "\n",
            "sin:\n",
            " [[ 0.84147098  0.90929743]\n",
            " [ 0.14112001 -0.7568025 ]\n",
            " [-0.95892427 -0.2794155 ]]\n",
            "\n",
            "cos:\n",
            " [[ 0.54030231 -0.41614684]\n",
            " [-0.9899925  -0.65364362]\n",
            " [ 0.28366219  0.96017029]]\n",
            "\n",
            "tan:\n",
            " [[ 1.55740772 -2.18503986]\n",
            " [-0.14254654  1.15782128]\n",
            " [-3.38051501 -0.29100619]]\n",
            "\n",
            "asine:\n",
            " [[0.16744808 0.33983691]\n",
            " [0.52359878 0.72972766]\n",
            " [0.98511078 1.57079633]]\n",
            "\n",
            "acosine:\n",
            " [[1.40334825 1.23095942]\n",
            " [1.04719755 0.84106867]\n",
            " [0.58568554 0.        ]]\n",
            "\n",
            "atangent:\n",
            " [[0.78539816 1.10714872]\n",
            " [1.24904577 1.32581766]\n",
            " [1.37340077 1.40564765]]\n",
            "\n",
            "exp:\n",
            " [[  2.71828183   7.3890561 ]\n",
            " [ 20.08553692  54.59815003]\n",
            " [148.4131591  403.42879349]]\n",
            "\n",
            "log (natural):\n",
            " [[0.         0.69314718]\n",
            " [1.09861229 1.38629436]\n",
            " [1.60943791 1.79175947]]\n",
            "\n",
            "abs:\n",
            " [[1 2]\n",
            " [3 4]\n",
            " [5 6]]\n",
            "\n",
            "sqrt:\n",
            " [[1.         1.41421356]\n",
            " [1.73205081 2.        ]\n",
            " [2.23606798 2.44948974]]\n",
            "\n",
            "rem (remainder when divided by 2):\n",
            " [[1 0]\n",
            " [1 0]\n",
            " [1 0]]\n",
            "\n",
            "round:\n",
            " [[1 2]\n",
            " [3 4]\n",
            " [5 6]]\n",
            "\n",
            "floor:\n",
            " [[1. 2.]\n",
            " [3. 4.]\n",
            " [5. 6.]]\n",
            "\n",
            "ceil:\n",
            " [[1. 2.]\n",
            " [3. 4.]\n",
            " [5. 6.]]\n"
          ]
        }
      ]
    },
    {
      "cell_type": "code",
      "source": [
        "# Sample vector (2*3 matrix)\n",
        "vec = np.array([[1.5, 2.7, 3.3], [4.7, 5.8, 6.4],[7.9, 8.2, 9.4]])\n",
        "\n",
        "# 1. Maximum value and index of max element\n",
        "max_value = np.max(vec)\n",
        "max_index = np.argmax(vec)  # Index of max element\n",
        "\n",
        "# 2. Minimum value and index of min element\n",
        "min_value = np.min(vec)\n",
        "min_index = np.argmin(vec)  # Index of min element\n",
        "\n",
        "# 3. Length of the vector\n",
        "vec_length = len(vec)  # Equivalent to MATLAB's length()\n",
        "\n",
        "# 4. Sorting in row-wise descending order\n",
        "sorted_row_desc = np.sort(vec, axis=1)[:, ::-1]\n",
        "\n",
        "#5.Sorting in entire matrix decending order\n",
        "sorted_all_desc = np.sort(vec, axis=None)[::-1]\n",
        "\n",
        "# 6. Sum of elements\n",
        "sum_values = np.sum(vec)\n",
        "\n",
        "\n",
        "# 7. Product of elements\n",
        "prod_values = np.prod(vec)\n",
        "\n",
        "# 8. Median value\n",
        "median_value = np.median(vec)\n",
        "\n",
        "# 9. Mean value\n",
        "mean_value = np.mean(vec)\n",
        "\n",
        "# 10. Standard deviation\n",
        "std_dev = np.std(vec)\n",
        "\n",
        "# Display results\n",
        "print(\"Max value:\", max_value, \"at index\", max_index)\n",
        "print(\"Min value:\", min_value, \"at index\", min_index)\n",
        "print(\"Length of vector:\", vec_length)\n",
        "print(\"Sorted vector:\", sorted_row_desc)\n",
        "print(\"Sorted vector:\", sorted_all_desc)\n",
        "print(\"Sum of elements:\", sum_values)\n",
        "print(\"Product of elements:\", prod_values)\n",
        "print(\"Median value:\", median_value)\n",
        "print(\"Mean value:\", mean_value)\n",
        "print(\"Standard deviation:\", std_dev)"
      ],
      "metadata": {
        "colab": {
          "base_uri": "https://localhost:8080/"
        },
        "id": "El2jTPFlA3yD",
        "outputId": "2e00446c-4c77-4660-ffe7-76f75e0fd6f5"
      },
      "execution_count": 10,
      "outputs": [
        {
          "output_type": "stream",
          "name": "stdout",
          "text": [
            "Max value: 9.4 at index 8\n",
            "Min value: 1.5 at index 0\n",
            "Length of vector: 3\n",
            "Sorted vector: [[3.3 2.7 1.5]\n",
            " [6.4 5.8 4.7]\n",
            " [9.4 8.2 7.9]]\n",
            "Sorted vector: [9.4 8.2 7.9 6.4 5.8 4.7 3.3 2.7 1.5]\n",
            "Sum of elements: 49.9\n",
            "Product of elements: 1419853.6618675203\n",
            "Median value: 5.8\n",
            "Mean value: 5.544444444444444\n",
            "Standard deviation: 2.5486864203223987\n"
          ]
        }
      ]
    },
    {
      "cell_type": "code",
      "source": [
        "\n",
        "\n",
        "# Step 1: Generate a 5x5 matrix with random integers between 1 and 100\n",
        "matrix = np.random.randint(1, 101, size=(5, 5))\n",
        "\n",
        "# Step 2: Print the matrix to console\n",
        "print(\" Randomly Generated Matrix (5x5):\")\n",
        "print(matrix)\n",
        "\n",
        "# Step 3: Visualize using Seaborn heatmap\n",
        "plt.figure(figsize=(8, 6))  # Optional: adjust the size of the plot\n",
        "sns.heatmap(matrix, annot=True, cmap='viridis', fmt='d', linewidths=0.5, linecolor='white')\n",
        "plt.title(\" Heatmap of Random Integer Matrix\", fontsize=14)\n",
        "plt.xlabel(\"Columns\")\n",
        "plt.ylabel(\"Rows\")\n",
        "plt.tight_layout()\n",
        "plt.show()\n"
      ],
      "metadata": {
        "colab": {
          "base_uri": "https://localhost:8080/",
          "height": 711
        },
        "id": "i_0yj3y-IwIa",
        "outputId": "07b6ec58-2767-434a-ff70-45c0c1adefa3"
      },
      "execution_count": 17,
      "outputs": [
        {
          "output_type": "stream",
          "name": "stdout",
          "text": [
            " Randomly Generated Matrix (5x5):\n",
            "[[14 58 67 74 62]\n",
            " [45 77 39 51 20]\n",
            " [ 4 75 44 62 15]\n",
            " [65 62 75 40 35]\n",
            " [37 24 81 41 30]]\n"
          ]
        },
        {
          "output_type": "display_data",
          "data": {
            "text/plain": [
              "<Figure size 800x600 with 2 Axes>"
            ],
            "image/png": "[encoded data removed]"
          },
          "metadata": {}
        }
      ]
    }
  ]
}